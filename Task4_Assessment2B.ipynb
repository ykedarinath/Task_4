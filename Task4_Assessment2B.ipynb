{
  "cells": [
    {
      "cell_type": "markdown",
      "metadata": {
        "id": "view-in-github",
        "colab_type": "text"
      },
      "source": [
        "<a href=\"https://colab.research.google.com/github/ykedarinath/Task_4/blob/main/Task4_Assessment2B.ipynb\" target=\"_parent\"><img src=\"https://colab.research.google.com/assets/colab-badge.svg\" alt=\"Open In Colab\"/></a>"
      ]
    },
    {
      "cell_type": "markdown",
      "metadata": {
        "id": "ub-X94itunFd"
      },
      "source": [
        "###### Assessment"
      ]
    },
    {
      "cell_type": "markdown",
      "metadata": {
        "id": "x9ulwg9munFj"
      },
      "source": [
        "###### I am going to provide two .csv files , you are supposed to work on them and have to provide solutions to the following problems"
      ]
    },
    {
      "cell_type": "markdown",
      "metadata": {
        "id": "Pm7ZIPapunFk"
      },
      "source": [
        "###### import necessary libraries"
      ]
    },
    {
      "cell_type": "code",
      "execution_count": 1,
      "metadata": {
        "id": "USevGu4LunFl"
      },
      "outputs": [],
      "source": [
        "import pandas as pd\n",
        "import numpy as np\n",
        "import matplotlib.pyplot as plt"
      ]
    },
    {
      "cell_type": "markdown",
      "metadata": {
        "id": "kJfA7bCAunFm"
      },
      "source": [
        "###### merge those two csv files (after getting as dataframes, get them as a single dataframe)"
      ]
    },
    {
      "cell_type": "code",
      "execution_count": 3,
      "metadata": {
        "colab": {
          "base_uri": "https://localhost:8080/"
        },
        "id": "LlGcshPKunFm",
        "outputId": "2fc55b73-2454-4f43-ec85-aae53231a597"
      },
      "outputs": [
        {
          "output_type": "stream",
          "name": "stdout",
          "text": [
            "(84, 7)\n",
            "(35, 9)\n",
            "(119, 9)\n"
          ]
        }
      ],
      "source": [
        "df_1=pd.read_csv(\"/content/college_1.csv\")\n",
        "print(df_1.shape)\n",
        "df_2=pd.read_csv(\"/content/college_2.csv\")\n",
        "print(df_2.shape)\n",
        "df=pd.concat([df_1,df_2],ignore_index=True)\n",
        "print(df.shape)"
      ]
    },
    {
      "cell_type": "markdown",
      "metadata": {
        "id": "GMtMdeYqunFn"
      },
      "source": [
        "###### Take each csv file , split that csv file into multiple categories (example csv files are added in the repo) \n"
      ]
    },
    {
      "cell_type": "markdown",
      "metadata": {
        "id": "MVU-JFwWunFn"
      },
      "source": [
        "###### consider if the codekata score exceeds 15000 points(present week) then make a csv on those observations as Exceeded expectations.csv\n"
      ]
    },
    {
      "cell_type": "markdown",
      "metadata": {
        "id": "YvEgnY0TunFo"
      },
      "source": [
        "###### if  10000<codekata score<15000   (Reached_expectations.csv)\n",
        "\n"
      ]
    },
    {
      "cell_type": "markdown",
      "metadata": {
        "id": "_GbVrv5FunFp"
      },
      "source": [
        "###### if  7000<codekata score<10000   (Needs_Improvement.csv)\n"
      ]
    },
    {
      "cell_type": "markdown",
      "metadata": {
        "id": "UlZhgqWtunFq"
      },
      "source": [
        "###### if  codekate score < 7000        (Unsatisfactory.csv)"
      ]
    },
    {
      "cell_type": "code",
      "execution_count": 5,
      "metadata": {
        "colab": {
          "base_uri": "https://localhost:8080/",
          "height": 219
        },
        "id": "6HQgBqc9unFr",
        "outputId": "df950513-3ffe-4e62-f4d1-ee84c0308867"
      },
      "outputs": [
        {
          "output_type": "execute_result",
          "data": {
            "text/plain": [
              "             Name  python  mysql  Previous Geekions  CodeKata Score  \\\n",
              "0       A.Dharani    82.0   20.0              24500           24500   \n",
              "1     V.JEEVITHA     82.0   20.0              21740           21740   \n",
              "2     HEMAVATHI.R   100.0  100.0              19680           19680   \n",
              "84  ASHOK KUMAR K   100.0   31.0              19400           19400   \n",
              "\n",
              "                                Department  Rising  python_en  \\\n",
              "0         Computer Science and Engineering       0        NaN   \n",
              "1         Computer Science and Engineering       0        NaN   \n",
              "2         Computer Science and Engineering       0        NaN   \n",
              "84  Electronics and Electrical Engineering       0        0.0   \n",
              "\n",
              "    computational_thinking  \n",
              "0                      NaN  \n",
              "1                      NaN  \n",
              "2                      NaN  \n",
              "84                     9.0  "
            ],
            "text/html": [
              "\n",
              "  <div id=\"df-0375597f-a8a4-4f07-a397-9e4f890bbf0f\">\n",
              "    <div class=\"colab-df-container\">\n",
              "      <div>\n",
              "<style scoped>\n",
              "    .dataframe tbody tr th:only-of-type {\n",
              "        vertical-align: middle;\n",
              "    }\n",
              "\n",
              "    .dataframe tbody tr th {\n",
              "        vertical-align: top;\n",
              "    }\n",
              "\n",
              "    .dataframe thead th {\n",
              "        text-align: right;\n",
              "    }\n",
              "</style>\n",
              "<table border=\"1\" class=\"dataframe\">\n",
              "  <thead>\n",
              "    <tr style=\"text-align: right;\">\n",
              "      <th></th>\n",
              "      <th>Name</th>\n",
              "      <th>python</th>\n",
              "      <th>mysql</th>\n",
              "      <th>Previous Geekions</th>\n",
              "      <th>CodeKata Score</th>\n",
              "      <th>Department</th>\n",
              "      <th>Rising</th>\n",
              "      <th>python_en</th>\n",
              "      <th>computational_thinking</th>\n",
              "    </tr>\n",
              "  </thead>\n",
              "  <tbody>\n",
              "    <tr>\n",
              "      <th>0</th>\n",
              "      <td>A.Dharani</td>\n",
              "      <td>82.0</td>\n",
              "      <td>20.0</td>\n",
              "      <td>24500</td>\n",
              "      <td>24500</td>\n",
              "      <td>Computer Science and Engineering</td>\n",
              "      <td>0</td>\n",
              "      <td>NaN</td>\n",
              "      <td>NaN</td>\n",
              "    </tr>\n",
              "    <tr>\n",
              "      <th>1</th>\n",
              "      <td>V.JEEVITHA</td>\n",
              "      <td>82.0</td>\n",
              "      <td>20.0</td>\n",
              "      <td>21740</td>\n",
              "      <td>21740</td>\n",
              "      <td>Computer Science and Engineering</td>\n",
              "      <td>0</td>\n",
              "      <td>NaN</td>\n",
              "      <td>NaN</td>\n",
              "    </tr>\n",
              "    <tr>\n",
              "      <th>2</th>\n",
              "      <td>HEMAVATHI.R</td>\n",
              "      <td>100.0</td>\n",
              "      <td>100.0</td>\n",
              "      <td>19680</td>\n",
              "      <td>19680</td>\n",
              "      <td>Computer Science and Engineering</td>\n",
              "      <td>0</td>\n",
              "      <td>NaN</td>\n",
              "      <td>NaN</td>\n",
              "    </tr>\n",
              "    <tr>\n",
              "      <th>84</th>\n",
              "      <td>ASHOK KUMAR K</td>\n",
              "      <td>100.0</td>\n",
              "      <td>31.0</td>\n",
              "      <td>19400</td>\n",
              "      <td>19400</td>\n",
              "      <td>Electronics and Electrical Engineering</td>\n",
              "      <td>0</td>\n",
              "      <td>0.0</td>\n",
              "      <td>9.0</td>\n",
              "    </tr>\n",
              "  </tbody>\n",
              "</table>\n",
              "</div>\n",
              "      <button class=\"colab-df-convert\" onclick=\"convertToInteractive('df-0375597f-a8a4-4f07-a397-9e4f890bbf0f')\"\n",
              "              title=\"Convert this dataframe to an interactive table.\"\n",
              "              style=\"display:none;\">\n",
              "        \n",
              "  <svg xmlns=\"http://www.w3.org/2000/svg\" height=\"24px\"viewBox=\"0 0 24 24\"\n",
              "       width=\"24px\">\n",
              "    <path d=\"M0 0h24v24H0V0z\" fill=\"none\"/>\n",
              "    <path d=\"M18.56 5.44l.94 2.06.94-2.06 2.06-.94-2.06-.94-.94-2.06-.94 2.06-2.06.94zm-11 1L8.5 8.5l.94-2.06 2.06-.94-2.06-.94L8.5 2.5l-.94 2.06-2.06.94zm10 10l.94 2.06.94-2.06 2.06-.94-2.06-.94-.94-2.06-.94 2.06-2.06.94z\"/><path d=\"M17.41 7.96l-1.37-1.37c-.4-.4-.92-.59-1.43-.59-.52 0-1.04.2-1.43.59L10.3 9.45l-7.72 7.72c-.78.78-.78 2.05 0 2.83L4 21.41c.39.39.9.59 1.41.59.51 0 1.02-.2 1.41-.59l7.78-7.78 2.81-2.81c.8-.78.8-2.07 0-2.86zM5.41 20L4 18.59l7.72-7.72 1.47 1.35L5.41 20z\"/>\n",
              "  </svg>\n",
              "      </button>\n",
              "      \n",
              "  <style>\n",
              "    .colab-df-container {\n",
              "      display:flex;\n",
              "      flex-wrap:wrap;\n",
              "      gap: 12px;\n",
              "    }\n",
              "\n",
              "    .colab-df-convert {\n",
              "      background-color: #E8F0FE;\n",
              "      border: none;\n",
              "      border-radius: 50%;\n",
              "      cursor: pointer;\n",
              "      display: none;\n",
              "      fill: #1967D2;\n",
              "      height: 32px;\n",
              "      padding: 0 0 0 0;\n",
              "      width: 32px;\n",
              "    }\n",
              "\n",
              "    .colab-df-convert:hover {\n",
              "      background-color: #E2EBFA;\n",
              "      box-shadow: 0px 1px 2px rgba(60, 64, 67, 0.3), 0px 1px 3px 1px rgba(60, 64, 67, 0.15);\n",
              "      fill: #174EA6;\n",
              "    }\n",
              "\n",
              "    [theme=dark] .colab-df-convert {\n",
              "      background-color: #3B4455;\n",
              "      fill: #D2E3FC;\n",
              "    }\n",
              "\n",
              "    [theme=dark] .colab-df-convert:hover {\n",
              "      background-color: #434B5C;\n",
              "      box-shadow: 0px 1px 3px 1px rgba(0, 0, 0, 0.15);\n",
              "      filter: drop-shadow(0px 1px 2px rgba(0, 0, 0, 0.3));\n",
              "      fill: #FFFFFF;\n",
              "    }\n",
              "  </style>\n",
              "\n",
              "      <script>\n",
              "        const buttonEl =\n",
              "          document.querySelector('#df-0375597f-a8a4-4f07-a397-9e4f890bbf0f button.colab-df-convert');\n",
              "        buttonEl.style.display =\n",
              "          google.colab.kernel.accessAllowed ? 'block' : 'none';\n",
              "\n",
              "        async function convertToInteractive(key) {\n",
              "          const element = document.querySelector('#df-0375597f-a8a4-4f07-a397-9e4f890bbf0f');\n",
              "          const dataTable =\n",
              "            await google.colab.kernel.invokeFunction('convertToInteractive',\n",
              "                                                     [key], {});\n",
              "          if (!dataTable) return;\n",
              "\n",
              "          const docLinkHtml = 'Like what you see? Visit the ' +\n",
              "            '<a target=\"_blank\" href=https://colab.research.google.com/notebooks/data_table.ipynb>data table notebook</a>'\n",
              "            + ' to learn more about interactive tables.';\n",
              "          element.innerHTML = '';\n",
              "          dataTable['output_type'] = 'display_data';\n",
              "          await google.colab.output.renderOutput(dataTable, element);\n",
              "          const docLink = document.createElement('div');\n",
              "          docLink.innerHTML = docLinkHtml;\n",
              "          element.appendChild(docLink);\n",
              "        }\n",
              "      </script>\n",
              "    </div>\n",
              "  </div>\n",
              "  "
            ]
          },
          "metadata": {},
          "execution_count": 5
        }
      ],
      "source": [
        "ck_score_1=df[df['CodeKata Score']>15000]\n",
        "ck_score_1"
      ]
    },
    {
      "cell_type": "code",
      "execution_count": 15,
      "metadata": {
        "colab": {
          "base_uri": "https://localhost:8080/"
        },
        "id": "52tX3j2FunFr",
        "outputId": "cb830c40-3701-404c-f5a7-fc2d7c4644f5"
      },
      "outputs": [
        {
          "output_type": "stream",
          "name": "stdout",
          "text": [
            "                 Name  python  mysql  Previous Geekions  CodeKata Score  \\\n",
            "3         Mugunthan S   100.0   47.0              10610           10610   \n",
            "85            Chandru     0.0    0.0              14150           14490   \n",
            "86  Ganesh Ramkumar R    -1.0   24.0               8790           10790   \n",
            "87    Bodipudi Harini    -1.0   35.0              10040           10040   \n",
            "\n",
            "                                   Department  Rising  python_en  \\\n",
            "3            Computer Science and Engineering       0        NaN   \n",
            "85           Computer Science and Engineering     340       20.0   \n",
            "86           Computer Science and Engineering    2000       55.0   \n",
            "87  Electronics and Communication Engineering       0        0.0   \n",
            "\n",
            "    computational_thinking  \n",
            "3                      NaN  \n",
            "85                     0.0  \n",
            "86                     6.0  \n",
            "87                    -1.0  \n"
          ]
        }
      ],
      "source": [
        "ck_score_2=df[(df['CodeKata Score']>10000) & (df['CodeKata Score']<15000)]\n",
        "print(ck_score_2)"
      ]
    },
    {
      "cell_type": "code",
      "source": [
        "ck_score_2.to_csv('Reached_expectations.csv')"
      ],
      "metadata": {
        "id": "dD4yow0bxHFO"
      },
      "execution_count": null,
      "outputs": []
    },
    {
      "cell_type": "code",
      "source": [
        "ck_score_3=df[(df['CodeKata Score']>7000)&(df['CodeKata Score']<100000)]\n",
        "ck_score_3.head()\n"
      ],
      "metadata": {
        "colab": {
          "base_uri": "https://localhost:8080/",
          "height": 206
        },
        "id": "ov3X-CFgv77a",
        "outputId": "99bff45c-b450-4274-ac34-143533330493"
      },
      "execution_count": 18,
      "outputs": [
        {
          "output_type": "execute_result",
          "data": {
            "text/plain": [
              "          Name  python  mysql  Previous Geekions  CodeKata Score  \\\n",
              "0    A.Dharani    82.0   20.0              24500           24500   \n",
              "1  V.JEEVITHA     82.0   20.0              21740           21740   \n",
              "2  HEMAVATHI.R   100.0  100.0              19680           19680   \n",
              "3  Mugunthan S   100.0   47.0              10610           10610   \n",
              "4  Sathammai.S   100.0    8.0               8980            8980   \n",
              "\n",
              "                         Department  Rising  python_en  computational_thinking  \n",
              "0  Computer Science and Engineering       0        NaN                     NaN  \n",
              "1  Computer Science and Engineering       0        NaN                     NaN  \n",
              "2  Computer Science and Engineering       0        NaN                     NaN  \n",
              "3  Computer Science and Engineering       0        NaN                     NaN  \n",
              "4  Computer Science and Engineering       0        NaN                     NaN  "
            ],
            "text/html": [
              "\n",
              "  <div id=\"df-85bad595-5d7f-4bc9-8cac-a0ed1a99c6e7\">\n",
              "    <div class=\"colab-df-container\">\n",
              "      <div>\n",
              "<style scoped>\n",
              "    .dataframe tbody tr th:only-of-type {\n",
              "        vertical-align: middle;\n",
              "    }\n",
              "\n",
              "    .dataframe tbody tr th {\n",
              "        vertical-align: top;\n",
              "    }\n",
              "\n",
              "    .dataframe thead th {\n",
              "        text-align: right;\n",
              "    }\n",
              "</style>\n",
              "<table border=\"1\" class=\"dataframe\">\n",
              "  <thead>\n",
              "    <tr style=\"text-align: right;\">\n",
              "      <th></th>\n",
              "      <th>Name</th>\n",
              "      <th>python</th>\n",
              "      <th>mysql</th>\n",
              "      <th>Previous Geekions</th>\n",
              "      <th>CodeKata Score</th>\n",
              "      <th>Department</th>\n",
              "      <th>Rising</th>\n",
              "      <th>python_en</th>\n",
              "      <th>computational_thinking</th>\n",
              "    </tr>\n",
              "  </thead>\n",
              "  <tbody>\n",
              "    <tr>\n",
              "      <th>0</th>\n",
              "      <td>A.Dharani</td>\n",
              "      <td>82.0</td>\n",
              "      <td>20.0</td>\n",
              "      <td>24500</td>\n",
              "      <td>24500</td>\n",
              "      <td>Computer Science and Engineering</td>\n",
              "      <td>0</td>\n",
              "      <td>NaN</td>\n",
              "      <td>NaN</td>\n",
              "    </tr>\n",
              "    <tr>\n",
              "      <th>1</th>\n",
              "      <td>V.JEEVITHA</td>\n",
              "      <td>82.0</td>\n",
              "      <td>20.0</td>\n",
              "      <td>21740</td>\n",
              "      <td>21740</td>\n",
              "      <td>Computer Science and Engineering</td>\n",
              "      <td>0</td>\n",
              "      <td>NaN</td>\n",
              "      <td>NaN</td>\n",
              "    </tr>\n",
              "    <tr>\n",
              "      <th>2</th>\n",
              "      <td>HEMAVATHI.R</td>\n",
              "      <td>100.0</td>\n",
              "      <td>100.0</td>\n",
              "      <td>19680</td>\n",
              "      <td>19680</td>\n",
              "      <td>Computer Science and Engineering</td>\n",
              "      <td>0</td>\n",
              "      <td>NaN</td>\n",
              "      <td>NaN</td>\n",
              "    </tr>\n",
              "    <tr>\n",
              "      <th>3</th>\n",
              "      <td>Mugunthan S</td>\n",
              "      <td>100.0</td>\n",
              "      <td>47.0</td>\n",
              "      <td>10610</td>\n",
              "      <td>10610</td>\n",
              "      <td>Computer Science and Engineering</td>\n",
              "      <td>0</td>\n",
              "      <td>NaN</td>\n",
              "      <td>NaN</td>\n",
              "    </tr>\n",
              "    <tr>\n",
              "      <th>4</th>\n",
              "      <td>Sathammai.S</td>\n",
              "      <td>100.0</td>\n",
              "      <td>8.0</td>\n",
              "      <td>8980</td>\n",
              "      <td>8980</td>\n",
              "      <td>Computer Science and Engineering</td>\n",
              "      <td>0</td>\n",
              "      <td>NaN</td>\n",
              "      <td>NaN</td>\n",
              "    </tr>\n",
              "  </tbody>\n",
              "</table>\n",
              "</div>\n",
              "      <button class=\"colab-df-convert\" onclick=\"convertToInteractive('df-85bad595-5d7f-4bc9-8cac-a0ed1a99c6e7')\"\n",
              "              title=\"Convert this dataframe to an interactive table.\"\n",
              "              style=\"display:none;\">\n",
              "        \n",
              "  <svg xmlns=\"http://www.w3.org/2000/svg\" height=\"24px\"viewBox=\"0 0 24 24\"\n",
              "       width=\"24px\">\n",
              "    <path d=\"M0 0h24v24H0V0z\" fill=\"none\"/>\n",
              "    <path d=\"M18.56 5.44l.94 2.06.94-2.06 2.06-.94-2.06-.94-.94-2.06-.94 2.06-2.06.94zm-11 1L8.5 8.5l.94-2.06 2.06-.94-2.06-.94L8.5 2.5l-.94 2.06-2.06.94zm10 10l.94 2.06.94-2.06 2.06-.94-2.06-.94-.94-2.06-.94 2.06-2.06.94z\"/><path d=\"M17.41 7.96l-1.37-1.37c-.4-.4-.92-.59-1.43-.59-.52 0-1.04.2-1.43.59L10.3 9.45l-7.72 7.72c-.78.78-.78 2.05 0 2.83L4 21.41c.39.39.9.59 1.41.59.51 0 1.02-.2 1.41-.59l7.78-7.78 2.81-2.81c.8-.78.8-2.07 0-2.86zM5.41 20L4 18.59l7.72-7.72 1.47 1.35L5.41 20z\"/>\n",
              "  </svg>\n",
              "      </button>\n",
              "      \n",
              "  <style>\n",
              "    .colab-df-container {\n",
              "      display:flex;\n",
              "      flex-wrap:wrap;\n",
              "      gap: 12px;\n",
              "    }\n",
              "\n",
              "    .colab-df-convert {\n",
              "      background-color: #E8F0FE;\n",
              "      border: none;\n",
              "      border-radius: 50%;\n",
              "      cursor: pointer;\n",
              "      display: none;\n",
              "      fill: #1967D2;\n",
              "      height: 32px;\n",
              "      padding: 0 0 0 0;\n",
              "      width: 32px;\n",
              "    }\n",
              "\n",
              "    .colab-df-convert:hover {\n",
              "      background-color: #E2EBFA;\n",
              "      box-shadow: 0px 1px 2px rgba(60, 64, 67, 0.3), 0px 1px 3px 1px rgba(60, 64, 67, 0.15);\n",
              "      fill: #174EA6;\n",
              "    }\n",
              "\n",
              "    [theme=dark] .colab-df-convert {\n",
              "      background-color: #3B4455;\n",
              "      fill: #D2E3FC;\n",
              "    }\n",
              "\n",
              "    [theme=dark] .colab-df-convert:hover {\n",
              "      background-color: #434B5C;\n",
              "      box-shadow: 0px 1px 3px 1px rgba(0, 0, 0, 0.15);\n",
              "      filter: drop-shadow(0px 1px 2px rgba(0, 0, 0, 0.3));\n",
              "      fill: #FFFFFF;\n",
              "    }\n",
              "  </style>\n",
              "\n",
              "      <script>\n",
              "        const buttonEl =\n",
              "          document.querySelector('#df-85bad595-5d7f-4bc9-8cac-a0ed1a99c6e7 button.colab-df-convert');\n",
              "        buttonEl.style.display =\n",
              "          google.colab.kernel.accessAllowed ? 'block' : 'none';\n",
              "\n",
              "        async function convertToInteractive(key) {\n",
              "          const element = document.querySelector('#df-85bad595-5d7f-4bc9-8cac-a0ed1a99c6e7');\n",
              "          const dataTable =\n",
              "            await google.colab.kernel.invokeFunction('convertToInteractive',\n",
              "                                                     [key], {});\n",
              "          if (!dataTable) return;\n",
              "\n",
              "          const docLinkHtml = 'Like what you see? Visit the ' +\n",
              "            '<a target=\"_blank\" href=https://colab.research.google.com/notebooks/data_table.ipynb>data table notebook</a>'\n",
              "            + ' to learn more about interactive tables.';\n",
              "          element.innerHTML = '';\n",
              "          dataTable['output_type'] = 'display_data';\n",
              "          await google.colab.output.renderOutput(dataTable, element);\n",
              "          const docLink = document.createElement('div');\n",
              "          docLink.innerHTML = docLinkHtml;\n",
              "          element.appendChild(docLink);\n",
              "        }\n",
              "      </script>\n",
              "    </div>\n",
              "  </div>\n",
              "  "
            ]
          },
          "metadata": {},
          "execution_count": 18
        }
      ]
    },
    {
      "cell_type": "code",
      "source": [
        "ck_score_3.to_csv('Needs_Improvement.csv')"
      ],
      "metadata": {
        "id": "GVD8KjNGxBQp"
      },
      "execution_count": null,
      "outputs": []
    },
    {
      "cell_type": "code",
      "source": [
        "ck_score_4=df[df['CodeKata Score']<7000]\n",
        "ck_score_4"
      ],
      "metadata": {
        "colab": {
          "base_uri": "https://localhost:8080/",
          "height": 468
        },
        "id": "5y0tpPaWwkBb",
        "outputId": "da1584cb-4ea0-4ad9-8394-d1aca7875dbb"
      },
      "execution_count": 17,
      "outputs": [
        {
          "output_type": "execute_result",
          "data": {
            "text/plain": [
              "                Name  python  mysql  Previous Geekions  CodeKata Score  \\\n",
              "8         J.SUGANTHI    27.0  50.00               5860            5860   \n",
              "9       thamizhpaana    29.0   0.00               5500            5500   \n",
              "10   Iyappan Samiraj    50.0  24.00               5400            5400   \n",
              "11      Ponniyamma.R   100.0  11.25               5380            5380   \n",
              "12         SABAPATHI   100.0   0.00               5280            5280   \n",
              "..               ...     ...    ...                ...             ...   \n",
              "114    praveen raj j    24.0   0.00               2380            2380   \n",
              "115       AMARNATH D    -1.0  12.00               1890            1890   \n",
              "116             bala    32.0   0.00               1720            1720   \n",
              "117             XY Z    -1.0  -1.00                  0               0   \n",
              "118        Hariharan    -1.0  -1.00                  0               0   \n",
              "\n",
              "                                    Department  Rising  python_en  \\\n",
              "8    Electronics and Communication Engineering       0        NaN   \n",
              "9             Computer Science and Engineering       0        NaN   \n",
              "10   Electronics and Communication Engineering       0        NaN   \n",
              "11            Computer Science and Engineering       0        NaN   \n",
              "12            Computer Science and Engineering       0        NaN   \n",
              "..                                         ...     ...        ...   \n",
              "114           Computer Science and Engineering       0       -1.0   \n",
              "115  Electronics and Communication Engineering       0       52.0   \n",
              "116  Electronics and Communication Engineering       0       49.0   \n",
              "117           Computer Science and Engineering       0       20.0   \n",
              "118           Computer Science and Engineering       0       -1.0   \n",
              "\n",
              "     computational_thinking  \n",
              "8                       NaN  \n",
              "9                       NaN  \n",
              "10                      NaN  \n",
              "11                      NaN  \n",
              "12                      NaN  \n",
              "..                      ...  \n",
              "114                     0.0  \n",
              "115                    -1.0  \n",
              "116                    -1.0  \n",
              "117                    -1.0  \n",
              "118                     0.0  \n",
              "\n",
              "[93 rows x 9 columns]"
            ],
            "text/html": [
              "\n",
              "  <div id=\"df-a8974bec-d0c6-4da3-8ec4-76e0f1de088f\">\n",
              "    <div class=\"colab-df-container\">\n",
              "      <div>\n",
              "<style scoped>\n",
              "    .dataframe tbody tr th:only-of-type {\n",
              "        vertical-align: middle;\n",
              "    }\n",
              "\n",
              "    .dataframe tbody tr th {\n",
              "        vertical-align: top;\n",
              "    }\n",
              "\n",
              "    .dataframe thead th {\n",
              "        text-align: right;\n",
              "    }\n",
              "</style>\n",
              "<table border=\"1\" class=\"dataframe\">\n",
              "  <thead>\n",
              "    <tr style=\"text-align: right;\">\n",
              "      <th></th>\n",
              "      <th>Name</th>\n",
              "      <th>python</th>\n",
              "      <th>mysql</th>\n",
              "      <th>Previous Geekions</th>\n",
              "      <th>CodeKata Score</th>\n",
              "      <th>Department</th>\n",
              "      <th>Rising</th>\n",
              "      <th>python_en</th>\n",
              "      <th>computational_thinking</th>\n",
              "    </tr>\n",
              "  </thead>\n",
              "  <tbody>\n",
              "    <tr>\n",
              "      <th>8</th>\n",
              "      <td>J.SUGANTHI</td>\n",
              "      <td>27.0</td>\n",
              "      <td>50.00</td>\n",
              "      <td>5860</td>\n",
              "      <td>5860</td>\n",
              "      <td>Electronics and Communication Engineering</td>\n",
              "      <td>0</td>\n",
              "      <td>NaN</td>\n",
              "      <td>NaN</td>\n",
              "    </tr>\n",
              "    <tr>\n",
              "      <th>9</th>\n",
              "      <td>thamizhpaana</td>\n",
              "      <td>29.0</td>\n",
              "      <td>0.00</td>\n",
              "      <td>5500</td>\n",
              "      <td>5500</td>\n",
              "      <td>Computer Science and Engineering</td>\n",
              "      <td>0</td>\n",
              "      <td>NaN</td>\n",
              "      <td>NaN</td>\n",
              "    </tr>\n",
              "    <tr>\n",
              "      <th>10</th>\n",
              "      <td>Iyappan Samiraj</td>\n",
              "      <td>50.0</td>\n",
              "      <td>24.00</td>\n",
              "      <td>5400</td>\n",
              "      <td>5400</td>\n",
              "      <td>Electronics and Communication Engineering</td>\n",
              "      <td>0</td>\n",
              "      <td>NaN</td>\n",
              "      <td>NaN</td>\n",
              "    </tr>\n",
              "    <tr>\n",
              "      <th>11</th>\n",
              "      <td>Ponniyamma.R</td>\n",
              "      <td>100.0</td>\n",
              "      <td>11.25</td>\n",
              "      <td>5380</td>\n",
              "      <td>5380</td>\n",
              "      <td>Computer Science and Engineering</td>\n",
              "      <td>0</td>\n",
              "      <td>NaN</td>\n",
              "      <td>NaN</td>\n",
              "    </tr>\n",
              "    <tr>\n",
              "      <th>12</th>\n",
              "      <td>SABAPATHI</td>\n",
              "      <td>100.0</td>\n",
              "      <td>0.00</td>\n",
              "      <td>5280</td>\n",
              "      <td>5280</td>\n",
              "      <td>Computer Science and Engineering</td>\n",
              "      <td>0</td>\n",
              "      <td>NaN</td>\n",
              "      <td>NaN</td>\n",
              "    </tr>\n",
              "    <tr>\n",
              "      <th>...</th>\n",
              "      <td>...</td>\n",
              "      <td>...</td>\n",
              "      <td>...</td>\n",
              "      <td>...</td>\n",
              "      <td>...</td>\n",
              "      <td>...</td>\n",
              "      <td>...</td>\n",
              "      <td>...</td>\n",
              "      <td>...</td>\n",
              "    </tr>\n",
              "    <tr>\n",
              "      <th>114</th>\n",
              "      <td>praveen raj j</td>\n",
              "      <td>24.0</td>\n",
              "      <td>0.00</td>\n",
              "      <td>2380</td>\n",
              "      <td>2380</td>\n",
              "      <td>Computer Science and Engineering</td>\n",
              "      <td>0</td>\n",
              "      <td>-1.0</td>\n",
              "      <td>0.0</td>\n",
              "    </tr>\n",
              "    <tr>\n",
              "      <th>115</th>\n",
              "      <td>AMARNATH D</td>\n",
              "      <td>-1.0</td>\n",
              "      <td>12.00</td>\n",
              "      <td>1890</td>\n",
              "      <td>1890</td>\n",
              "      <td>Electronics and Communication Engineering</td>\n",
              "      <td>0</td>\n",
              "      <td>52.0</td>\n",
              "      <td>-1.0</td>\n",
              "    </tr>\n",
              "    <tr>\n",
              "      <th>116</th>\n",
              "      <td>bala</td>\n",
              "      <td>32.0</td>\n",
              "      <td>0.00</td>\n",
              "      <td>1720</td>\n",
              "      <td>1720</td>\n",
              "      <td>Electronics and Communication Engineering</td>\n",
              "      <td>0</td>\n",
              "      <td>49.0</td>\n",
              "      <td>-1.0</td>\n",
              "    </tr>\n",
              "    <tr>\n",
              "      <th>117</th>\n",
              "      <td>XY Z</td>\n",
              "      <td>-1.0</td>\n",
              "      <td>-1.00</td>\n",
              "      <td>0</td>\n",
              "      <td>0</td>\n",
              "      <td>Computer Science and Engineering</td>\n",
              "      <td>0</td>\n",
              "      <td>20.0</td>\n",
              "      <td>-1.0</td>\n",
              "    </tr>\n",
              "    <tr>\n",
              "      <th>118</th>\n",
              "      <td>Hariharan</td>\n",
              "      <td>-1.0</td>\n",
              "      <td>-1.00</td>\n",
              "      <td>0</td>\n",
              "      <td>0</td>\n",
              "      <td>Computer Science and Engineering</td>\n",
              "      <td>0</td>\n",
              "      <td>-1.0</td>\n",
              "      <td>0.0</td>\n",
              "    </tr>\n",
              "  </tbody>\n",
              "</table>\n",
              "<p>93 rows × 9 columns</p>\n",
              "</div>\n",
              "      <button class=\"colab-df-convert\" onclick=\"convertToInteractive('df-a8974bec-d0c6-4da3-8ec4-76e0f1de088f')\"\n",
              "              title=\"Convert this dataframe to an interactive table.\"\n",
              "              style=\"display:none;\">\n",
              "        \n",
              "  <svg xmlns=\"http://www.w3.org/2000/svg\" height=\"24px\"viewBox=\"0 0 24 24\"\n",
              "       width=\"24px\">\n",
              "    <path d=\"M0 0h24v24H0V0z\" fill=\"none\"/>\n",
              "    <path d=\"M18.56 5.44l.94 2.06.94-2.06 2.06-.94-2.06-.94-.94-2.06-.94 2.06-2.06.94zm-11 1L8.5 8.5l.94-2.06 2.06-.94-2.06-.94L8.5 2.5l-.94 2.06-2.06.94zm10 10l.94 2.06.94-2.06 2.06-.94-2.06-.94-.94-2.06-.94 2.06-2.06.94z\"/><path d=\"M17.41 7.96l-1.37-1.37c-.4-.4-.92-.59-1.43-.59-.52 0-1.04.2-1.43.59L10.3 9.45l-7.72 7.72c-.78.78-.78 2.05 0 2.83L4 21.41c.39.39.9.59 1.41.59.51 0 1.02-.2 1.41-.59l7.78-7.78 2.81-2.81c.8-.78.8-2.07 0-2.86zM5.41 20L4 18.59l7.72-7.72 1.47 1.35L5.41 20z\"/>\n",
              "  </svg>\n",
              "      </button>\n",
              "      \n",
              "  <style>\n",
              "    .colab-df-container {\n",
              "      display:flex;\n",
              "      flex-wrap:wrap;\n",
              "      gap: 12px;\n",
              "    }\n",
              "\n",
              "    .colab-df-convert {\n",
              "      background-color: #E8F0FE;\n",
              "      border: none;\n",
              "      border-radius: 50%;\n",
              "      cursor: pointer;\n",
              "      display: none;\n",
              "      fill: #1967D2;\n",
              "      height: 32px;\n",
              "      padding: 0 0 0 0;\n",
              "      width: 32px;\n",
              "    }\n",
              "\n",
              "    .colab-df-convert:hover {\n",
              "      background-color: #E2EBFA;\n",
              "      box-shadow: 0px 1px 2px rgba(60, 64, 67, 0.3), 0px 1px 3px 1px rgba(60, 64, 67, 0.15);\n",
              "      fill: #174EA6;\n",
              "    }\n",
              "\n",
              "    [theme=dark] .colab-df-convert {\n",
              "      background-color: #3B4455;\n",
              "      fill: #D2E3FC;\n",
              "    }\n",
              "\n",
              "    [theme=dark] .colab-df-convert:hover {\n",
              "      background-color: #434B5C;\n",
              "      box-shadow: 0px 1px 3px 1px rgba(0, 0, 0, 0.15);\n",
              "      filter: drop-shadow(0px 1px 2px rgba(0, 0, 0, 0.3));\n",
              "      fill: #FFFFFF;\n",
              "    }\n",
              "  </style>\n",
              "\n",
              "      <script>\n",
              "        const buttonEl =\n",
              "          document.querySelector('#df-a8974bec-d0c6-4da3-8ec4-76e0f1de088f button.colab-df-convert');\n",
              "        buttonEl.style.display =\n",
              "          google.colab.kernel.accessAllowed ? 'block' : 'none';\n",
              "\n",
              "        async function convertToInteractive(key) {\n",
              "          const element = document.querySelector('#df-a8974bec-d0c6-4da3-8ec4-76e0f1de088f');\n",
              "          const dataTable =\n",
              "            await google.colab.kernel.invokeFunction('convertToInteractive',\n",
              "                                                     [key], {});\n",
              "          if (!dataTable) return;\n",
              "\n",
              "          const docLinkHtml = 'Like what you see? Visit the ' +\n",
              "            '<a target=\"_blank\" href=https://colab.research.google.com/notebooks/data_table.ipynb>data table notebook</a>'\n",
              "            + ' to learn more about interactive tables.';\n",
              "          element.innerHTML = '';\n",
              "          dataTable['output_type'] = 'display_data';\n",
              "          await google.colab.output.renderOutput(dataTable, element);\n",
              "          const docLink = document.createElement('div');\n",
              "          docLink.innerHTML = docLinkHtml;\n",
              "          element.appendChild(docLink);\n",
              "        }\n",
              "      </script>\n",
              "    </div>\n",
              "  </div>\n",
              "  "
            ]
          },
          "metadata": {},
          "execution_count": 17
        }
      ]
    },
    {
      "cell_type": "code",
      "source": [
        "ck_score_4.to_csv('Unsatisfactory.csv')"
      ],
      "metadata": {
        "id": "mRKCwQIiw9wC"
      },
      "execution_count": null,
      "outputs": []
    },
    {
      "cell_type": "markdown",
      "metadata": {
        "id": "ljAKMfeMunFr"
      },
      "source": [
        "###### Average of previous week geekions vs this week geekions (i.e Previous Geekions vs CodeKata Score)"
      ]
    },
    {
      "cell_type": "code",
      "execution_count": 24,
      "metadata": {
        "colab": {
          "base_uri": "https://localhost:8080/"
        },
        "id": "1WGxrj1junFs",
        "outputId": "8216fe19-c4af-4acc-ff3c-246a40302f9d"
      },
      "outputs": [
        {
          "output_type": "stream",
          "name": "stdout",
          "text": [
            "Average of previous week geekions = 3842.3529411764707\n",
            "Average of this week geekions = 4051.764705882353\n",
            "Average of prev week geekions vs this week geekions =  -209.41176470588243\n"
          ]
        }
      ],
      "source": [
        "prev_gcoins=df['Previous Geekions'].mean()\n",
        "print(f\"Average of previous week geekions =\",prev_gcoins)\n",
        "ck_score=df['CodeKata Score'].mean()\n",
        "print(f\"Average of this week geekions =\",ck_score)\n",
        "avg_gc=prev_gcoins-ck_score\n",
        "print(f\"Average of prev week geekions vs this week geekions = \",avg_gc)"
      ]
    },
    {
      "cell_type": "markdown",
      "metadata": {
        "id": "OG5srB2bunFs"
      },
      "source": [
        "###### No of students participated "
      ]
    },
    {
      "cell_type": "code",
      "execution_count": 23,
      "metadata": {
        "colab": {
          "base_uri": "https://localhost:8080/"
        },
        "id": "K5CPixzJunFs",
        "outputId": "8ea75665-414d-4d22-e367-6ffe86d49431"
      },
      "outputs": [
        {
          "output_type": "execute_result",
          "data": {
            "text/plain": [
              "Name                      119\n",
              "python                    119\n",
              "mysql                     119\n",
              "Previous Geekions         119\n",
              "CodeKata Score            119\n",
              "Department                119\n",
              "Rising                    119\n",
              "python_en                  35\n",
              "computational_thinking     35\n",
              "dtype: int64"
            ]
          },
          "metadata": {},
          "execution_count": 23
        }
      ],
      "source": [
        "no_of_stud=df.count()\n",
        "no_of_stud"
      ]
    },
    {
      "cell_type": "markdown",
      "metadata": {
        "id": "-aRkFXiQunFs"
      },
      "source": [
        "###### #Average completion of python course or my_sql or python english or computational thinking"
      ]
    },
    {
      "cell_type": "code",
      "execution_count": 27,
      "metadata": {
        "colab": {
          "base_uri": "https://localhost:8080/"
        },
        "id": "5meCswC4unFt",
        "outputId": "08f99997-10a9-45f7-f8ff-ac6a8afdcb58"
      },
      "outputs": [
        {
          "output_type": "stream",
          "name": "stdout",
          "text": [
            "Average completion of python course is  54.35294117647059\n",
            "Average completion of my_sql course is  23.5\n",
            "Average completion of python english course is  29.65714285714286\n",
            "Average completion of computational thinking course is  2.2\n"
          ]
        }
      ],
      "source": [
        "avg_py,avg_sql,avg_pyen,avg_cth=df['python'].mean(),df['mysql'].mean(), \\\n",
        "                                df['python_en'].mean(), \\\n",
        "                                df['computational_thinking'].mean()\n",
        "print(f\"Average completion of python course is \",avg_py)\n",
        "print(f\"Average completion of my_sql course is \",avg_sql)\n",
        "print(f\"Average completion of python english course is \",avg_pyen)\n",
        "print(f\"Average completion of computational thinking course is \",avg_cth)"
      ]
    },
    {
      "cell_type": "markdown",
      "metadata": {
        "id": "n0ZudEf7unFt"
      },
      "source": [
        "###### rising star of the week (top 3 candidate who performed well in that particular week)"
      ]
    },
    {
      "cell_type": "code",
      "execution_count": 31,
      "metadata": {
        "colab": {
          "base_uri": "https://localhost:8080/"
        },
        "id": "5z9ZAPxLunFt",
        "outputId": "9266b21d-6016-42a1-b66e-1aa5c7df7363"
      },
      "outputs": [
        {
          "output_type": "execute_result",
          "data": {
            "text/plain": [
              "92              shifak N\n",
              "102       Narasimhan Y L\n",
              "86     Ganesh Ramkumar R\n",
              "Name: Name, dtype: object"
            ]
          },
          "metadata": {},
          "execution_count": 31
        }
      ],
      "source": [
        "r_stars=df.sort_values(by='Rising',ascending=False)\n",
        "r_stars.head(3).Name"
      ]
    },
    {
      "cell_type": "markdown",
      "metadata": {
        "id": "M4nEqt0JunFu"
      },
      "source": [
        "###### Shining stars of the week (top 3 candidates who has highest geekions)"
      ]
    },
    {
      "cell_type": "code",
      "execution_count": 32,
      "metadata": {
        "colab": {
          "base_uri": "https://localhost:8080/"
        },
        "id": "kC-JMg_PunFu",
        "outputId": "01edb94f-6531-4b3c-cff9-37a6ee7f6309"
      },
      "outputs": [
        {
          "output_type": "execute_result",
          "data": {
            "text/plain": [
              "0      A.Dharani\n",
              "1    V.JEEVITHA \n",
              "2    HEMAVATHI.R\n",
              "Name: Name, dtype: object"
            ]
          },
          "metadata": {},
          "execution_count": 32
        }
      ],
      "source": [
        "sh_stars=df.sort_values(by='Previous Geekions',ascending=False)\n",
        "sh_stars.head(3).Name"
      ]
    },
    {
      "cell_type": "markdown",
      "metadata": {
        "id": "6ZwVLAiyunFu"
      },
      "source": [
        "###### Department wise codekata performence (pie chart)"
      ]
    },
    {
      "cell_type": "code",
      "execution_count": 47,
      "metadata": {
        "colab": {
          "base_uri": "https://localhost:8080/"
        },
        "id": "276e2lCEunFu",
        "outputId": "f1ab393c-e906-4436-c069-ef962ec11747"
      },
      "outputs": [
        {
          "output_type": "stream",
          "name": "stdout",
          "text": [
            "[320025, 108335, 53800]\n"
          ]
        }
      ],
      "source": [
        "deprts=df['Department'].unique()\n",
        "#print(dep)\n",
        "dep_score =[]\n",
        "for each in deprts:\n",
        "  dep_df=df[df['Department']==each]\n",
        "  dep_score.append(dep_df['CodeKata Score'].sum())\n",
        "print(dep_score)"
      ]
    },
    {
      "cell_type": "code",
      "source": [
        "plt.figure()\n",
        "plt.pie(dep_score,labels=deprts,explode=(0.05,0.05,0.05),colors=['green','grey','blue'],autopct=('%1.1f%%'))\n",
        "plt.show()"
      ],
      "metadata": {
        "colab": {
          "base_uri": "https://localhost:8080/",
          "height": 248
        },
        "id": "UIDmbSc63chR",
        "outputId": "f63a6432-3bd8-4825-9a0c-1e321ebaca88"
      },
      "execution_count": 48,
      "outputs": [
        {
          "output_type": "display_data",
          "data": {
            "text/plain": [
              "<Figure size 432x288 with 1 Axes>"
            ],
            "image/png": "[encoded data removed]"
          },
          "metadata": {}
        }
      ]
    },
    {
      "cell_type": "markdown",
      "metadata": {
        "id": "Rd8Q79GCunFv"
      },
      "source": [
        "###### Department wise toppers (horizantal bar graph or any visual representations of your choice)"
      ]
    },
    {
      "cell_type": "code",
      "execution_count": 64,
      "metadata": {
        "colab": {
          "base_uri": "https://localhost:8080/"
        },
        "id": "_l6Exk0YunFv",
        "outputId": "d613a8d1-c117-4f45-c983-0cd941a2633b"
      },
      "outputs": [
        {
          "output_type": "stream",
          "name": "stdout",
          "text": [
            "[24500, 10040, 19400]\n",
            "['C.S.E_A.Dharani', 'E.C.E_Bodipudi Harini', 'E.E.E_ASHOK KUMAR K']\n"
          ]
        }
      ],
      "source": [
        "dep_top_score =[]\n",
        "dep_top_scorer =[]\n",
        "for each in deprts:\n",
        "  dep_df=df[df['Department']==each]\n",
        "  each1 = each.replace('and','').replace('  ',' ').split(\" \")\n",
        "  dept = (\".\").join([x[0] for x in each1])\n",
        "  dep_top_score.append(dep_df['CodeKata Score'].max())\n",
        "  dep_top_scorer.append(dept+\"_\"+dep_df[dep_df['CodeKata Score']==dep_df['CodeKata Score'].max()]['Name'].values[0])\n"
      ]
    },
    {
      "cell_type": "code",
      "execution_count": 74,
      "metadata": {
        "colab": {
          "base_uri": "https://localhost:8080/",
          "height": 295
        },
        "id": "lUDnTl60unFv",
        "outputId": "1f66be93-3519-4b89-9261-e1a840ae316d"
      },
      "outputs": [
        {
          "output_type": "display_data",
          "data": {
            "text/plain": [
              "<Figure size 432x288 with 1 Axes>"
            ],
            "image/png": "[encoded data removed]"
          },
          "metadata": {
            "needs_background": "light"
          }
        }
      ],
      "source": [
        "from matplotlib import colors\n",
        "plt.barh(dep_top_scorer,dep_top_score)\n",
        "plt.title('Department Wise Topperrs')\n",
        "plt.ylabel(\"Topper\")\n",
        "plt.xlabel(\"CodeKata Score\")\n",
        "plt.show()"
      ]
    },
    {
      "cell_type": "code",
      "execution_count": null,
      "metadata": {
        "id": "QfM5yrEjunFv"
      },
      "outputs": [],
      "source": [
        ""
      ]
    },
    {
      "cell_type": "code",
      "execution_count": null,
      "metadata": {
        "id": "H0QrlbnWunFv"
      },
      "outputs": [],
      "source": [
        ""
      ]
    }
  ],
  "metadata": {
    "kernelspec": {
      "display_name": "Python 3",
      "language": "python",
      "name": "python3"
    },
    "language_info": {
      "codemirror_mode": {
        "name": "ipython",
        "version": 3
      },
      "file_extension": ".py",
      "mimetype": "text/x-python",
      "name": "python",
      "nbconvert_exporter": "python",
      "pygments_lexer": "ipython3",
      "version": "3.8.3"
    },
    "colab": {
      "name": "Task4_Assessment2B.ipynb",
      "provenance": [],
      "include_colab_link": true
    }
  },
  "nbformat": 4,
  "nbformat_minor": 0
}